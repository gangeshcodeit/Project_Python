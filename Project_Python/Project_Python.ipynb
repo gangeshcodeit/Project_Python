{
 "cells": [
  {
   "cell_type": "code",
   "execution_count": null,
   "id": "024a39ac",
   "metadata": {},
   "outputs": [],
   "source": [
    "# Importing random module\n",
    "import random\n",
    "\n",
    "\n",
    "print(\"Welcome to random story generator :\")\n",
    "\n",
    "# Asking the user number of random stories he/she wants to print\n",
    "n=int(input(\"Enter number of stories \"))\n",
    "\n",
    "print(\"Your\",n,\"random stories are :\" )\n",
    "\n",
    "# Defining list of phrases which will help to build a story\n",
    "part_1 = ['Long time ago', ' In the year 300 BC', 'Once upon a time']\n",
    "part_2 = [' there lived a king.',' there lived a man named Harry.',\n",
    "\t\t\t' there lived a farmer.']\n",
    "part_3 = [' One evening', ' One afternoon','One morning']\n",
    "part_4 = [' he was passing by',' he was going for a picnic to ']\n",
    "part_5 = [' the mountains', ' the garden', ' the park', ' the amusement park']\n",
    "part_6 = [' he saw a man', ' he saw a young lady']\n",
    "part_7 = [' who seemed to be in late 20s', ' who seemed very old and feeble']\n",
    "part_8 = [' searching something.', ' digging a well on roadside.', ' playing with a young kid.']\n",
    "\n",
    "i=1\n",
    "# Loop to print n number of stories\n",
    "while(i<=n):\n",
    "    \n",
    "    # Selecting an item from each list and concatenating them.\n",
    "    print(i,end=\". \")\n",
    "    print(random.choice(part_1)+random.choice(part_2)+\n",
    "\trandom.choice(part_3)+random.choice(part_4) +\n",
    "\trandom.choice(part_5)+random.choice(part_6)+\n",
    "\trandom.choice(part_7)+random.choice(part_8))\n",
    "    print()\n",
    "    i+=1"
   ]
  }
 ],
 "metadata": {
  "kernelspec": {
   "display_name": "Python 3 (ipykernel)",
   "language": "python",
   "name": "python3"
  },
  "language_info": {
   "codemirror_mode": {
    "name": "ipython",
    "version": 3
   },
   "file_extension": ".py",
   "mimetype": "text/x-python",
   "name": "python",
   "nbconvert_exporter": "python",
   "pygments_lexer": "ipython3",
   "version": "3.9.12"
  }
 },
 "nbformat": 4,
 "nbformat_minor": 5
}
